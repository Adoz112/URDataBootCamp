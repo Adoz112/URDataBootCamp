{
 "cells": [
  {
   "cell_type": "code",
   "execution_count": null,
   "metadata": {},
   "outputs": [],
   "source": [
    "import pandas as pd\n",
    "\n",
    "election_raw_df = pd.read_csv('election_data.csv')\n",
    "election_raw_df.head()\n",
    "\n",
    "\n",
    "#The total # of votes cast\n",
    "total_votes = election_raw_df['Voter ID'].count()\n",
    "print(total_votes)\n",
    "\n",
    "\n",
    "#A complete list of candidates who received votes\n",
    "candidate_list = election_raw_df['Candidate'].unique()\n",
    "print(candidate_list)\n",
    "\n",
    "\n",
    "#The percentage of votes the candidate won\n",
    "percentage_votes = (election_raw_df['Candidate'].value_counts()/election_raw_df['Candidate'].count()) * 100\n",
    "print(percentage_votes)\n",
    "\n",
    "\n",
    "#The total number of votes each candidate won\n",
    "totalper_votes = election_raw_df['Candidate'].value_counts()\n",
    "print(totalper_votes)\n",
    "\n",
    "\n",
    "\n",
    "#Winner based on popular vote\n",
    "winner = totalper_votes.idxmax()\n",
    "print(winner)\n",
    "\n"
   ]
  }
 ],
 "metadata": {
  "kernelspec": {
   "display_name": "Python 3",
   "language": "python",
   "name": "python3"
  },
  "language_info": {
   "codemirror_mode": {
    "name": "ipython",
    "version": 3
   },
   "file_extension": ".py",
   "mimetype": "text/x-python",
   "name": "python",
   "nbconvert_exporter": "python",
   "pygments_lexer": "ipython3",
   "version": "3.7.1"
  }
 },
 "nbformat": 4,
 "nbformat_minor": 2
}
